{
 "cells": [
  {
   "cell_type": "code",
   "execution_count": 1,
   "metadata": {},
   "outputs": [],
   "source": [
    "import tensorflow as tf\n",
    "import numpy as np\n",
    "import matplotlib.pyplot as plt\n",
    "from tensorflow.keras.layers import Input, Conv2D, Dense, Flatten, Dropout\n",
    "from tensorflow.keras.models import Model\n",
    "from sklearn.metrics import confusion_matrix\n",
    "import pandas as pd"
   ]
  },
  {
   "cell_type": "code",
   "execution_count": 2,
   "metadata": {},
   "outputs": [
    {
     "name": "stdout",
     "output_type": "stream",
     "text": [
      "x_train.shape: (50000, 32, 32, 3)\n",
      "y_train.shape: (50000,)\n"
     ]
    }
   ],
   "source": [
    "cifar10 = tf.keras.datasets.cifar10\n",
    "(x_train,y_train),(x_test,y_test)=cifar10.load_data()\n",
    "x_train,x_test=x_train/255.0,x_test/255.0\n",
    "\n",
    "y_train, y_test = y_train.flatten(),y_test.flatten()\n",
    "print(\"x_train.shape:\" , x_train.shape)\n",
    "print(\"y_train.shape:\" , y_train.shape)"
   ]
  },
  {
   "cell_type": "code",
   "execution_count": 3,
   "metadata": {},
   "outputs": [
    {
     "data": {
      "text/plain": [
       "10"
      ]
     },
     "execution_count": 3,
     "metadata": {},
     "output_type": "execute_result"
    }
   ],
   "source": [
    "K= len(set(y_train)) # number of classes\n",
    "K"
   ]
  },
  {
   "cell_type": "markdown",
   "metadata": {},
   "source": [
    "## Building the model using the functional API"
   ]
  },
  {
   "cell_type": "code",
   "execution_count": 4,
   "metadata": {},
   "outputs": [],
   "source": [
    "i = Input (shape =x_train[0].shape)\n",
    "x= Conv2D(32, (3,3), strides =2, activation= 'relu')(i)\n",
    "x= Conv2D(64, (3,3), strides =2, activation= 'relu')(x)\n",
    "x= Conv2D(128, (3,3), strides =2, activation= 'relu')(x)\n",
    "x = Flatten()(x)\n",
    "x = Dropout(0.5)(x)\n",
    "x = Dense(1024, activation='relu')(x)\n",
    "x= Dropout(0.2)(x)\n",
    "x= Dense(K, activation='softmax')(x)\n",
    "\n",
    "model = Model(i,x)\n"
   ]
  },
  {
   "cell_type": "code",
   "execution_count": 5,
   "metadata": {},
   "outputs": [
    {
     "name": "stdout",
     "output_type": "stream",
     "text": [
      "Epoch 1/15\n",
      "1563/1563 [==============================] - 34s 21ms/step - loss: 1.5703 - accuracy: 0.4285 - val_loss: 1.3483 - val_accuracy: 0.5085\n",
      "Epoch 2/15\n",
      "1563/1563 [==============================] - 33s 21ms/step - loss: 1.2781 - accuracy: 0.5408 - val_loss: 1.1312 - val_accuracy: 0.5877\n",
      "Epoch 3/15\n",
      "1563/1563 [==============================] - 33s 21ms/step - loss: 1.1522 - accuracy: 0.5904 - val_loss: 1.0207 - val_accuracy: 0.6380\n",
      "Epoch 4/15\n",
      "1563/1563 [==============================] - 34s 22ms/step - loss: 1.0620 - accuracy: 0.6198 - val_loss: 0.9880 - val_accuracy: 0.6466\n",
      "Epoch 5/15\n",
      "1563/1563 [==============================] - 34s 22ms/step - loss: 0.9995 - accuracy: 0.6454 - val_loss: 0.9438 - val_accuracy: 0.6726\n",
      "Epoch 6/15\n",
      "1563/1563 [==============================] - 34s 22ms/step - loss: 0.9333 - accuracy: 0.6698 - val_loss: 0.9121 - val_accuracy: 0.6817\n",
      "Epoch 7/15\n",
      "1563/1563 [==============================] - 34s 22ms/step - loss: 0.8831 - accuracy: 0.6851 - val_loss: 0.8682 - val_accuracy: 0.6992\n",
      "Epoch 8/15\n",
      "1563/1563 [==============================] - 34s 22ms/step - loss: 0.8427 - accuracy: 0.6994 - val_loss: 0.8588 - val_accuracy: 0.7043\n",
      "Epoch 9/15\n",
      "1563/1563 [==============================] - 34s 22ms/step - loss: 0.8017 - accuracy: 0.7150 - val_loss: 0.8497 - val_accuracy: 0.7009\n",
      "Epoch 10/15\n",
      "1563/1563 [==============================] - 34s 21ms/step - loss: 0.7709 - accuracy: 0.7273 - val_loss: 0.8520 - val_accuracy: 0.7057\n",
      "Epoch 11/15\n",
      "1563/1563 [==============================] - 34s 22ms/step - loss: 0.7366 - accuracy: 0.7397 - val_loss: 0.8412 - val_accuracy: 0.7136\n",
      "Epoch 12/15\n",
      "1563/1563 [==============================] - 34s 22ms/step - loss: 0.7096 - accuracy: 0.7472 - val_loss: 0.8544 - val_accuracy: 0.7057\n",
      "Epoch 13/15\n",
      "1563/1563 [==============================] - 34s 22ms/step - loss: 0.6877 - accuracy: 0.7551 - val_loss: 0.8236 - val_accuracy: 0.7151\n",
      "Epoch 14/15\n",
      "1563/1563 [==============================] - 34s 22ms/step - loss: 0.6656 - accuracy: 0.7632 - val_loss: 0.8295 - val_accuracy: 0.7152\n",
      "Epoch 15/15\n",
      "1563/1563 [==============================] - 34s 22ms/step - loss: 0.6458 - accuracy: 0.7683 - val_loss: 0.8485 - val_accuracy: 0.7076\n"
     ]
    }
   ],
   "source": [
    "#Compile and fit\n",
    "model.compile(optimizer='adam', loss='sparse_categorical_crossentropy',\n",
    "             metrics =['accuracy'])\n",
    "mdl = model.fit(x_train, y_train, validation_data=(x_test,y_test), epochs=15)"
   ]
  },
  {
   "cell_type": "code",
   "execution_count": 6,
   "metadata": {},
   "outputs": [
    {
     "data": {
      "text/plain": [
       "<matplotlib.legend.Legend at 0x128ad1f9580>"
      ]
     },
     "execution_count": 6,
     "metadata": {},
     "output_type": "execute_result"
    },
    {
     "data": {
      "image/png": "[encoded data removed]",
      "text/plain": [
       "<Figure size 432x288 with 1 Axes>"
      ]
     },
     "metadata": {
      "needs_background": "light"
     },
     "output_type": "display_data"
    }
   ],
   "source": [
    "#Loss per iteration\n",
    "plt.plot(mdl.history['loss'],label='loss')\n",
    "plt.plot(mdl.history['val_loss'], label= 'val_loss')\n",
    "plt.legend()"
   ]
  },
  {
   "cell_type": "code",
   "execution_count": 7,
   "metadata": {},
   "outputs": [
    {
     "data": {
      "text/plain": [
       "<matplotlib.legend.Legend at 0x128c72b7fa0>"
      ]
     },
     "execution_count": 7,
     "metadata": {},
     "output_type": "execute_result"
    },
    {
     "data": {
      "image/png": "[encoded data removed]",
      "text/plain": [
       "<Figure size 432x288 with 1 Axes>"
      ]
     },
     "metadata": {
      "needs_background": "light"
     },
     "output_type": "display_data"
    }
   ],
   "source": [
    "#Accuracy per iteration\n",
    "plt.plot(mdl.history['accuracy'],label='accuracy')\n",
    "plt.plot(mdl.history['val_accuracy'], label= 'val_accuracy')\n",
    "plt.legend()"
   ]
  },
  {
   "cell_type": "code",
   "execution_count": 8,
   "metadata": {},
   "outputs": [
    {
     "name": "stdout",
     "output_type": "stream",
     "text": [
      "[[799  42  29  13  17   2  17  12  44  25]\n",
      " [  9 895   4   7   3   4  12   3   7  56]\n",
      " [ 83   8 517  47 105  81 107  38   9   5]\n",
      " [ 25  11  52 448  64 179 163  31  12  15]\n",
      " [ 22   5  49  38 638  47 108  81  11   1]\n",
      " [ 10   6  38 140  45 612  81  58   2   8]\n",
      " [  4   8  26  25  16  13 896   5   3   4]\n",
      " [ 15   5  24  23  56  66  21 780   4   6]\n",
      " [ 96  70  12  14  12   6  11   7 743  29]\n",
      " [ 43 125  13  13   3   5  14  19  17 748]]\n"
     ]
    }
   ],
   "source": [
    "ptest= model.predict(x_test).argmax(axis=1)\n",
    "cm = confusion_matrix(y_test,ptest)\n",
    "print(cm)"
   ]
  },
  {
   "cell_type": "code",
   "execution_count": 10,
   "metadata": {},
   "outputs": [
    {
     "data": {
      "text/html": [
       "<div>\n",
       "<style scoped>\n",
       "    .dataframe tbody tr th:only-of-type {\n",
       "        vertical-align: middle;\n",
       "    }\n",
       "\n",
       "    .dataframe tbody tr th {\n",
       "        vertical-align: top;\n",
       "    }\n",
       "\n",
       "    .dataframe thead th {\n",
       "        text-align: right;\n",
       "    }\n",
       "</style>\n",
       "<table border=\"1\" class=\"dataframe\">\n",
       "  <thead>\n",
       "    <tr style=\"text-align: right;\">\n",
       "      <th></th>\n",
       "      <th>y_Actual</th>\n",
       "      <th>y_predicted</th>\n",
       "    </tr>\n",
       "  </thead>\n",
       "  <tbody>\n",
       "    <tr>\n",
       "      <th>0</th>\n",
       "      <td>3</td>\n",
       "      <td>3</td>\n",
       "    </tr>\n",
       "    <tr>\n",
       "      <th>1</th>\n",
       "      <td>8</td>\n",
       "      <td>8</td>\n",
       "    </tr>\n",
       "    <tr>\n",
       "      <th>2</th>\n",
       "      <td>8</td>\n",
       "      <td>8</td>\n",
       "    </tr>\n",
       "    <tr>\n",
       "      <th>3</th>\n",
       "      <td>0</td>\n",
       "      <td>0</td>\n",
       "    </tr>\n",
       "    <tr>\n",
       "      <th>4</th>\n",
       "      <td>6</td>\n",
       "      <td>6</td>\n",
       "    </tr>\n",
       "  </tbody>\n",
       "</table>\n",
       "</div>"
      ],
      "text/plain": [
       "   y_Actual  y_predicted\n",
       "0         3            3\n",
       "1         8            8\n",
       "2         8            8\n",
       "3         0            0\n",
       "4         6            6"
      ]
     },
     "execution_count": 10,
     "metadata": {},
     "output_type": "execute_result"
    }
   ],
   "source": [
    "df= pd.DataFrame(y_test, columns=['y_Actual'])\n",
    "df1= pd.DataFrame(ptest, columns=['y_predicted'])\n",
    "df['y_predicted']= df1['y_predicted']\n",
    "df.head()"
   ]
  },
  {
   "cell_type": "code",
   "execution_count": 17,
   "metadata": {},
   "outputs": [
    {
     "name": "stdout",
     "output_type": "stream",
     "text": [
      "INFO:tensorflow:Assets written to: CIFAR_10\\assets\n"
     ]
    }
   ],
   "source": [
    "model.save(\"CIFAR_10\")"
   ]
  }
 ],
 "metadata": {
  "kernelspec": {
   "display_name": "Python 3",
   "language": "python",
   "name": "python3"
  },
  "language_info": {
   "codemirror_mode": {
    "name": "ipython",
    "version": 3
   },
   "file_extension": ".py",
   "mimetype": "text/x-python",
   "name": "python",
   "nbconvert_exporter": "python",
   "pygments_lexer": "ipython3",
   "version": "3.8.5"
  }
 },
 "nbformat": 4,
 "nbformat_minor": 4
}
